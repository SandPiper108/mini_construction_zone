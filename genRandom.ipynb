{
 "cells": [
  {
   "cell_type": "code",
   "execution_count": 1,
   "id": "e8d87011-e98e-4770-a01b-0a59125de85a",
   "metadata": {},
   "outputs": [],
   "source": [
    "import numpy as np\n",
    "import time\n",
    "import matplotlib.pyplot as plt"
   ]
  },
  {
   "cell_type": "code",
   "execution_count": 2,
   "id": "f6f6ee78-3a29-4b14-98db-bf163117a0a9",
   "metadata": {},
   "outputs": [],
   "source": [
    "rng = np.random.default_rng()\n",
    "def radius(gen,shape,mean,std):\n",
    "        rint = mean+std*gen.standard_normal(shape)\n",
    "        return(rint)"
   ]
  },
  {
   "cell_type": "code",
   "execution_count": 12,
   "id": "e766040d-22d3-4c1e-8ca0-da569dd576b1",
   "metadata": {},
   "outputs": [
    {
     "data": {
      "text/plain": [
       "(array([1., 0., 0., 1., 0., 0., 3., 0., 0., 2., 1., 2., 0., 0., 1., 1., 5.,\n",
       "        5., 1., 2., 5., 6., 2., 1., 1., 2., 3., 2., 3., 8., 5., 6., 3., 3.,\n",
       "        2., 3., 4., 2., 4., 5., 1., 1., 0., 2., 0., 0., 0., 0., 0., 1.]),\n",
       " array([-10.24362735,  -7.85893738,  -5.4742474 ,  -3.08955743,\n",
       "         -0.70486746,   1.67982251,   4.06451249,   6.44920246,\n",
       "          8.83389243,  11.2185824 ,  13.60327238,  15.98796235,\n",
       "         18.37265232,  20.75734229,  23.14203226,  25.52672224,\n",
       "         27.91141221,  30.29610218,  32.68079215,  35.06548213,\n",
       "         37.4501721 ,  39.83486207,  42.21955204,  44.60424202,\n",
       "         46.98893199,  49.37362196,  51.75831193,  54.1430019 ,\n",
       "         56.52769188,  58.91238185,  61.29707182,  63.68176179,\n",
       "         66.06645177,  68.45114174,  70.83583171,  73.22052168,\n",
       "         75.60521166,  77.98990163,  80.3745916 ,  82.75928157,\n",
       "         85.14397155,  87.52866152,  89.91335149,  92.29804146,\n",
       "         94.68273143,  97.06742141,  99.45211138, 101.83680135,\n",
       "        104.22149132, 106.6061813 , 108.99087127]),\n",
       " <BarContainer object of 50 artists>)"
      ]
     },
     "execution_count": 12,
     "metadata": {},
     "output_type": "execute_result"
    },
    {
     "data": {
      "image/png": "[encoded data removed]",
      "text/plain": [
       "<Figure size 432x288 with 1 Axes>"
      ]
     },
     "metadata": {
      "needs_background": "light"
     },
     "output_type": "display_data"
    }
   ],
   "source": [
    "plt.hist(radius(rng,100,50,25),50)"
   ]
  },
  {
   "cell_type": "code",
   "execution_count": null,
   "id": "2c850260-9660-45f1-b6b2-7fd08f2c3a64",
   "metadata": {},
   "outputs": [],
   "source": []
  },
  {
   "cell_type": "code",
   "execution_count": null,
   "id": "ac43e04b-5fc2-4ec3-b653-8edf71e228d7",
   "metadata": {},
   "outputs": [],
   "source": []
  }
 ],
 "metadata": {
  "kernelspec": {
   "display_name": "Python [conda env:summer]",
   "language": "python",
   "name": "conda-env-summer-py"
  },
  "language_info": {
   "codemirror_mode": {
    "name": "ipython",
    "version": 3
   },
   "file_extension": ".py",
   "mimetype": "text/x-python",
   "name": "python",
   "nbconvert_exporter": "python",
   "pygments_lexer": "ipython3",
   "version": "3.7.10"
  }
 },
 "nbformat": 4,
 "nbformat_minor": 5
}
