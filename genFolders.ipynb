{
 "cells": [
  {
   "cell_type": "code",
   "execution_count": 1,
   "id": "b705d8e2-77ba-4774-a57d-9ebbc9e76d21",
   "metadata": {},
   "outputs": [],
   "source": [
    "from datetime import datetime"
   ]
  },
  {
   "cell_type": "code",
   "execution_count": 2,
   "id": "a5418343-4d9c-4018-8ba4-930f97f6ab33",
   "metadata": {},
   "outputs": [],
   "source": [
    "def newFolder():\n",
    "    today = datetime.today()\n",
    "    formatToday = today.strftime(\"_%Y%m%d\")\n",
    "    hTime = int(today.strftime(\"%H\"))\n",
    "    mTime = int(today.strftime(\"%M\"))\n",
    "    sTime = int(today.strftime(\"%S\"))\n",
    "    fTime = today.strftime(\"%f\")\n",
    "    \n",
    "    #convert time into seconds\n",
    "    time = (hTime*3600) + (mTime*60) + sTime \n",
    "    time = str(time)\n",
    "    \n",
    "    #add together for file name\n",
    "    folderName = (\"particle_\" + time + fTime + formatToday)\n",
    "    particle = \"particle\"\n",
    "    particleSub = \"particle_substrate\"\n",
    "    particleData = \"particle_data\"\n",
    "    return (folderName, particle, particleSub, particleData)\n",
    "    "
   ]
  },
  {
   "cell_type": "code",
   "execution_count": 3,
   "id": "e69e795a-5d4d-4b90-b1c7-2f3108f854d6",
   "metadata": {},
   "outputs": [
    {
     "data": {
      "text/plain": [
       "('particle_42085400732_20210721',\n",
       " 'particle',\n",
       " 'particle_substrate',\n",
       " 'particle_data')"
      ]
     },
     "execution_count": 3,
     "metadata": {},
     "output_type": "execute_result"
    }
   ],
   "source": [
    "newFolder()"
   ]
  }
 ],
 "metadata": {
  "kernelspec": {
   "display_name": "Python [conda env:summer]",
   "language": "python",
   "name": "conda-env-summer-py"
  },
  "language_info": {
   "codemirror_mode": {
    "name": "ipython",
    "version": 3
   },
   "file_extension": ".py",
   "mimetype": "text/x-python",
   "name": "python",
   "nbconvert_exporter": "python",
   "pygments_lexer": "ipython3",
   "version": "3.7.10"
  }
 },
 "nbformat": 4,
 "nbformat_minor": 5
}
