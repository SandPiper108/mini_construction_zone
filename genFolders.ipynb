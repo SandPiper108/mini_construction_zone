{
 "cells": [
  {
   "cell_type": "code",
   "execution_count": 1,
   "id": "b705d8e2-77ba-4774-a57d-9ebbc9e76d21",
   "metadata": {},
   "outputs": [],
   "source": [
    "from datetime import datetime\n",
    "import pathlib"
   ]
  },
  {
   "cell_type": "code",
   "execution_count": 2,
   "id": "a5418343-4d9c-4018-8ba4-930f97f6ab33",
   "metadata": {},
   "outputs": [],
   "source": [
    "def newFolder():\n",
    "    today = datetime.today()\n",
    "    formatToday = today.strftime(\"_%Y%m%d\")\n",
    "    hTime = int(today.strftime(\"%H\"))\n",
    "    mTime = int(today.strftime(\"%M\"))\n",
    "    sTime = int(today.strftime(\"%S\"))\n",
    "    fTime = today.strftime(\"%f\")\n",
    "\n",
    "    #convert time into seconds\n",
    "    time = (hTime*3600) + (mTime*60) + sTime \n",
    "    time = str(time)\n",
    "\n",
    "    #add together for file name\n",
    "    folderName = (\"particle_\" + time + fTime+ formatToday)\n",
    "    particle = \"particle\"\n",
    "    particleSub = \"particle_substrate\"\n",
    "    particleData = \"particle_data\"\n",
    "    return (folderName, particle, particleSub, particleData)"
   ]
  },
  {
   "cell_type": "code",
   "execution_count": 3,
   "id": "6f31963d-ac19-4c68-87ea-24a9de4fda27",
   "metadata": {},
   "outputs": [],
   "source": [
    "def checkFolder():\n",
    "    a = newFolder()\n",
    "    while(pathlib.Path(a[0]).is_dir()):\n",
    "        a = newFolder()\n",
    "    return a\n",
    "    "
   ]
  },
  {
   "cell_type": "code",
   "execution_count": 4,
   "id": "e69e795a-5d4d-4b90-b1c7-2f3108f854d6",
   "metadata": {},
   "outputs": [
    {
     "data": {
      "text/plain": [
       "('particle_45965711224_20210722',\n",
       " 'particle',\n",
       " 'particle_substrate',\n",
       " 'particle_data')"
      ]
     },
     "execution_count": 4,
     "metadata": {},
     "output_type": "execute_result"
    }
   ],
   "source": [
    "pathlib.Path(checkFolder()[0]).mkdir()\n",
    "checkFolder()"
   ]
  },
  {
   "cell_type": "code",
   "execution_count": null,
   "id": "0d6d8477-1275-49ec-a8d7-c6ea2fdbc3dd",
   "metadata": {},
   "outputs": [],
   "source": []
  },
  {
   "cell_type": "code",
   "execution_count": null,
   "id": "e4fe710f-9f6f-400b-9625-01f89303ec91",
   "metadata": {},
   "outputs": [],
   "source": []
  }
 ],
 "metadata": {
  "kernelspec": {
   "display_name": "Python [conda env:summer]",
   "language": "python",
   "name": "conda-env-summer-py"
  },
  "language_info": {
   "codemirror_mode": {
    "name": "ipython",
    "version": 3
   },
   "file_extension": ".py",
   "mimetype": "text/x-python",
   "name": "python",
   "nbconvert_exporter": "python",
   "pygments_lexer": "ipython3",
   "version": "3.7.10"
  }
 },
 "nbformat": 4,
 "nbformat_minor": 5
}
